{
 "metadata": {
  "name": "",
  "signature": "sha256:1a46f27dcba2cbae8de910fdaca007231a37ae84db1aa6e44bf409ddcd4bc25e"
 },
 "nbformat": 3,
 "nbformat_minor": 0,
 "worksheets": [
  {
   "cells": [
    {
     "cell_type": "heading",
     "level": 1,
     "metadata": {},
     "source": [
      "<font color='red'>\n",
      "\u6578\u5b78BI\u3000\u7ae0\u7bc01-1   \u76f4\u89d2\u5ea7\u6a19\u7cfb\u3001\u8ddd\u96e2\u516c\u5f0f\u3001\u5206\u9ede\u5ea7\u6a19"
     ]
    },
    {
     "cell_type": "heading",
     "level": 2,
     "metadata": {},
     "source": [
      "\u73ed\u7d1a\uff1a\u3000\u3000\u3000\u3000\u3000\u3000\u3000\u3000\u59d3\u540d\uff1a"
     ]
    },
    {
     "cell_type": "markdown",
     "metadata": {},
     "source": [
      "$---------------------------------------------------------$"
     ]
    },
    {
     "cell_type": "heading",
     "level": 1,
     "metadata": {},
     "source": [
      "<font color=blue>\n",
      "\u4e3b\u984c\uff1a\u5ea7\u6a19"
     ]
    },
    {
     "cell_type": "markdown",
     "metadata": {},
     "source": [
      "##\u53ea\u6709<font color=red>\u4e00\u500b\u8b8a\u6578</font>\u7684\u5ea7\u6a19\uff0c\u7a31\u4e4b\u70ba\u4e00\u7dad\u5ea7\u6a19\u6216\u662f$______________$"
     ]
    },
    {
     "cell_type": "markdown",
     "metadata": {},
     "source": [
      "##\u8a66\u8457\u756b\u756b\u770b\uff1a\n",
      "<br><br><br><br><br><br><br>"
     ]
    },
    {
     "cell_type": "markdown",
     "metadata": {},
     "source": [
      "##\u76f4\u7dda\u5ea7\u6a19\u4e0a\u898f\u5b9a\u5411\u53f3\u70ba\u6b63\u3001\u5411\u5de6\u70ba\u8ca0<br>\n",
      "##\u4f8b\u5982A\u9ede\u7684\u5ea7\u6a19\u70ba$-3$\uff0c\u8a18\u70ba$________$<br>\n",
      "##\u4f8b\u5982B\u9ede\u7684\u5ea7\u6a19\u70ba$2$\uff0c\u8a18\u70ba$________$<br><br>\n"
     ]
    },
    {
     "cell_type": "markdown",
     "metadata": {},
     "source": [
      "##\u64c1\u6709<font color=red>\u5169\u500b\u8b8a\u6578</font>\u7684\u5ea7\u6a19\uff0c\u7a31\u4e4b\u70ba\u4e8c\u7dad\u5ea7\u6a19\u6216\u662f$______________$"
     ]
    },
    {
     "cell_type": "markdown",
     "metadata": {},
     "source": [
      "##\u8a66\u8457\u756b\u756b\u770b\uff1a\n",
      "<br><br><br><br><br><br><br>"
     ]
    },
    {
     "cell_type": "markdown",
     "metadata": {},
     "source": [
      "##\u5728\u5e73\u9762\u5ea7\u6a19\uff0c\u6211\u5011<font color=red>\u7528\u6578\u5c0d$(a,b)$</font>\u7d00\u9304\u67d0\u9ede\u7684\u4f4d\u7f6e\n",
      "##\u5176\u4e2d$a$\u70ba\u8a72\u9ede\u7684$________________$\n",
      "##$b$\u70ba\u8a72\u9ede\u7684$________________$\n",
      "##\u8209\u4f8b\u4f86\u8aaa\uff0c\u82e5$P$\u9ede\u4e4b\u4f4d\u7f6e\u5728$x=3$\u8207$y=2$\u4e4b\u4ea4\u53c9\u9ede\n",
      "##\u5247$P$\u9ede\u4e4b\u5ea7\u6a19\u8a18\u70ba$__________$\n",
      "<br>"
     ]
    },
    {
     "cell_type": "markdown",
     "metadata": {},
     "source": [
      "##\u800c\u5728\u5e73\u9762\u5ea7\u6a19\u4e0a\uff0c\u4f9d\u64da\u5ea7\u6a19\u7684<font color=red>\u6b63\u8ca0</font>\uff0c\u53ef\u4ee5\u7d30\u5206\u70ba\n",
      "##<font color=red>$x$\u8ef8\u3001$y$\u8ef8\u3001\u7b2c\u4e00\u8c61\u9650\u3001\u7b2c\u4e8c\u8c61\u9650\u3001\u7b2c\u4e09\u8c61\u9650\u3001\u7b2c\u56db\u8c61\u9650</font>\u7b49\u516d\u500b\u5340\u57df"
     ]
    },
    {
     "cell_type": "markdown",
     "metadata": {},
     "source": [
      "##\u8a66\u8457\u756b\u756b\u770b\uff1a\n",
      "<br><br><br><br><br><br><br>"
     ]
    },
    {
     "cell_type": "markdown",
     "metadata": {},
     "source": [
      "##<font color=green>\u96a8\u5802\u7df4\u7fd21-1\uff1a\u82e5\u9ede$(a,b)$\u5728\u7b2c\u4e8c\u8c61\u9650\uff0c\u5247$(b-a,a-b)$\u5728\u7b2c\u5e7e\u8c61\u9650\uff1f</font>\n",
      "##\u7b54\uff1a<br><br>\n",
      "##<font color=green>\u96a8\u5802\u7df4\u7fd21-2\uff1a\u82e5\u9ede$(a,a+b)$\u5728\u7b2c\u56db\u8c61\u9650\uff0c\u5247$(b,a-b)$\u5728\u7b2c\u5e7e\u8c61\u9650\uff1f</font>\n",
      "##\u7b54\uff1a<br><br>"
     ]
    },
    {
     "cell_type": "markdown",
     "metadata": {},
     "source": [
      "$---------------------------------------------------------$"
     ]
    },
    {
     "cell_type": "heading",
     "level": 1,
     "metadata": {},
     "source": [
      "<font color=blue>\n",
      "\u4e3b\u984c\uff1a\u5169\u9ede\u9593\u7684\u8ddd\u96e2"
     ]
    },
    {
     "cell_type": "markdown",
     "metadata": {},
     "source": [
      "##\u5728<font color=red>\u76f4\u7dda</font>\u4e0a\u5169\u9ede\u4e4b\u8ddd\u96e2\u5c31\u662f\u5169\u5ea7\u6a19\u5dee\u7684$__________$<br>\n",
      "##\u4f8b\u5982A\u9ede\u7684\u5ea7\u6a19\u70ba$a$\uff0cB\u9ede\u7684\u5ea7\u6a19\u70ba$b$\uff0c\u5247A\u5230B\u7684\u8ddd\u96e2\u70ba$________________$<br>\n",
      "<br>\n",
      "##\u5728<font color=red>\u5e73\u9762</font>\u4e0a\u5169\u9ede\u4e4b\u8ddd\u96e2\u53ef\u5229\u7528$_______________________________$<br>\n",
      "##\u4f8b\u5982A\u9ede\u7684\u5ea7\u6a19\u70ba$(x_1,y_1)$\uff0cB\u9ede\u7684\u5ea7\u6a19\u70ba$(x_2,y_2)$\uff0c\u5247\u5229\u7528\u8f14\u52a9\u4e09\u89d2\u5f62<br>"
     ]
    },
    {
     "cell_type": "markdown",
     "metadata": {},
     "source": [
      "##\u8a66\u8457\u756b\u756b\u770b\uff1a\n",
      "<br><br><br><br><br><br><br>"
     ]
    },
    {
     "cell_type": "markdown",
     "metadata": {},
     "source": [
      "##\u56e0\u6b64$\\overline{AB}^2=\\overline{AC}^2 + \\overline{BC}^2=|x_2-x_1|^2+|y_2-y_1|^2$\n",
      "##\u6240\u4ee5A\u5230B\u7684\u8ddd\u96e2\u70ba$______________________$<br>\n",
      "\n"
     ]
    },
    {
     "cell_type": "markdown",
     "metadata": {},
     "source": [
      "##<font color=green>\u96a8\u5802\u7df4\u7fd21-3\uff1a\u6c42\u4ee5\u4e0b\u5169\u9ede\u4e4b\u8ddd\u96e2\uff0c$C(-2,3)$\u548c$D(1,-1)$</font>\n",
      "##\u7b54\uff1a<br><br><br><br>\n"
     ]
    },
    {
     "cell_type": "markdown",
     "metadata": {},
     "source": [
      "$---------------------------------------------------------$"
     ]
    },
    {
     "cell_type": "heading",
     "level": 1,
     "metadata": {},
     "source": [
      "<font color=blue>\n",
      "\u4e3b\u984c\uff1a\u5206\u9ede\u5ea7\u6a19"
     ]
    },
    {
     "cell_type": "markdown",
     "metadata": {},
     "source": [
      "##\u5e73\u9762\u4e0a\u5169\u9ede$A(x_1,y_1)$,$B(x_2,y_2)$\uff0c\u5df2\u77e5$\\overline{AB}$\u4e0a\u6709\u4e00\u9ede$P(x,y)$<br>\n",
      "##\u4e14$\\overline{AP}:\\overline{PB}=m:n$<br>\n",
      "#\u5247$x=____________________$,$y=____________________$"
     ]
    },
    {
     "cell_type": "markdown",
     "metadata": {},
     "source": [
      "##\u8a66\u8457\u756b\u756b\u770b\uff1a\n",
      "<br><br><br><br><br><br><br>"
     ]
    },
    {
     "cell_type": "markdown",
     "metadata": {},
     "source": [
      "##\u5df2\u77e5$(x-a):(b-x)=m:n$<br>\n",
      "##\u6574\u7406\u5f97\u5230$n(x-a)=m(b-x) \\Rightarrow (n+m)x=na+mb $\n",
      "##$\\Rightarrow $$x=_______________$"
     ]
    },
    {
     "cell_type": "markdown",
     "metadata": {},
     "source": [
      "##\u5206\u9ede\u5ea7\u6a19\u7684\u4e00\u500b\u7279\u4f8b\u662f\u4e2d\u9ede\u5ea7\u6a19\uff0c\u82e5P\u9ede\u6b63\u597d\u5728$A(x_1,y_1)$\u548c$B(x_2,y_2)$\u4e4b\u4e2d\u9ede<br>\n",
      "##\u5247P\u9ede\u4e4b\u5ea7\u6a19\u70ba$__________________$<br>"
     ]
    },
    {
     "cell_type": "markdown",
     "metadata": {},
     "source": [
      "##<font color=green>\u8ab2\u672c\u4f8b\u984c\uff1a$A(-3,5)$\u548c$B(1,-1)$\uff0cP\u5728$\\overline{AB}$\u5ef6\u9577\u7dda\u4e0a\uff0c\u4e14$\\overline{AP}:\\overline{BP}=5:3$\uff0c<br></font>\n",
      "##<font color=green>\u6c42P\u9ede\u5ea7\u6a19\u3002<br></font>\n",
      "##\u7b54\uff1a<br><br><br><br><br><br><br><br><br><br>\n"
     ]
    }
   ],
   "metadata": {}
  }
 ]
}